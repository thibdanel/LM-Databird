{
 "cells": [
  {
   "cell_type": "code",
   "execution_count": 2,
   "metadata": {},
   "outputs": [],
   "source": [
    "import pandas as pd\n",
    "import numpy as np"
   ]
  },
  {
   "cell_type": "code",
   "execution_count": 4,
   "metadata": {},
   "outputs": [],
   "source": [
    "df = pd.read_csv('/Users/thibaultdanel/Downloads/full.csv')\n"
   ]
  },
  {
   "cell_type": "code",
   "execution_count": 10,
   "metadata": {},
   "outputs": [
    {
     "data": {
      "text/plain": [
       "code_departement\n",
       "75    205422.846852\n",
       "92    143642.256786\n",
       "69     54976.924821\n",
       "95     51333.512719\n",
       "42     48451.022122\n",
       "          ...      \n",
       "88      1559.295316\n",
       "36      1417.483726\n",
       "52      1410.666308\n",
       "70      1282.001256\n",
       "23      1100.997932\n",
       "Name: px_m2, Length: 99, dtype: float64"
      ]
     },
     "execution_count": 10,
     "metadata": {},
     "output_type": "execute_result"
    }
   ],
   "source": [
    "df['px_m2'] = df['valeur_fonciere'] / df['surface_reelle_bati']\n",
    "df.groupby('code_departement').mean()['px_m2'].sort_values(ascending=False)"
   ]
  },
  {
   "cell_type": "code",
   "execution_count": 5,
   "metadata": {},
   "outputs": [
    {
     "name": "stderr",
     "output_type": "stream",
     "text": [
      "/var/folders/77/c88_28012qx0xb53kvscmnm80000gn/T/ipykernel_27018/1356229281.py:2: SettingWithCopyWarning: \n",
      "A value is trying to be set on a copy of a slice from a DataFrame.\n",
      "Try using .loc[row_indexer,col_indexer] = value instead\n",
      "\n",
      "See the caveats in the documentation: https://pandas.pydata.org/pandas-docs/stable/user_guide/indexing.html#returning-a-view-versus-a-copy\n",
      "  df_clean['code_postal'] = df_clean['code_postal'].replace(np.nan, '0000')\n",
      "/var/folders/77/c88_28012qx0xb53kvscmnm80000gn/T/ipykernel_27018/1356229281.py:3: SettingWithCopyWarning: \n",
      "A value is trying to be set on a copy of a slice from a DataFrame.\n",
      "Try using .loc[row_indexer,col_indexer] = value instead\n",
      "\n",
      "See the caveats in the documentation: https://pandas.pydata.org/pandas-docs/stable/user_guide/indexing.html#returning-a-view-versus-a-copy\n",
      "  df_clean['code_postal'] = df_clean['code_postal'].astype(int)\n"
     ]
    }
   ],
   "source": [
    "df_clean = df[['type_local','code_departement','adresse_nom_voie', 'code_postal','nom_commune' ]]\n",
    "df_clean['code_postal'] = df_clean['code_postal'].replace(np.nan, '0000')\n",
    "df_clean['code_postal'] = df_clean['code_postal'].astype(int)"
   ]
  },
  {
   "cell_type": "code",
   "execution_count": null,
   "metadata": {},
   "outputs": [],
   "source": []
  }
 ],
 "metadata": {
  "interpreter": {
   "hash": "a64da07ef7b5f6e82019cd20fc570470acf924c21b6e9890acb4670a4df853d5"
  },
  "kernelspec": {
   "display_name": "Python 3.9.7 ('base')",
   "language": "python",
   "name": "python3"
  },
  "language_info": {
   "codemirror_mode": {
    "name": "ipython",
    "version": 3
   },
   "file_extension": ".py",
   "mimetype": "text/x-python",
   "name": "python",
   "nbconvert_exporter": "python",
   "pygments_lexer": "ipython3",
   "version": "3.9.7"
  },
  "orig_nbformat": 4
 },
 "nbformat": 4,
 "nbformat_minor": 2
}
